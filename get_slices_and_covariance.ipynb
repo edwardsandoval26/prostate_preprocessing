{
 "cells": [
  {
   "cell_type": "code",
   "execution_count": 3,
   "metadata": {},
   "outputs": [],
   "source": [
    "import json\n",
    "import numpy as np\n",
    "from skimage.transform import resize\n",
    "from time import sleep\n",
    "import matplotlib.pyplot as plt"
   ]
  },
  {
   "cell_type": "code",
   "execution_count": 4,
   "metadata": {},
   "outputs": [],
   "source": [
    "#Read information json:\n",
    "PATH_JSON_INFO = '/Datasets/PICAI_olmos/info-12x32x32.json'\n",
    "PATH_VOLS = '/Datasets/PICAI_32x32x12/volumes/'\n",
    "#read json\n",
    "\n",
    "with open(PATH_JSON_INFO, 'r') as f:\n",
    "    info = json.load(f)"
   ]
  },
  {
   "cell_type": "code",
   "execution_count": 1,
   "metadata": {},
   "outputs": [],
   "source": [
    "#make a function that given a volume returns the center slice in x,y and z\n",
    "def get_center_slices(vol):\n",
    "    x,y,z = vol.shape\n",
    "    return vol[(x-1)//2,:,:], vol[:,(y-1)//2,:], vol[:,:,(z-1)//2]\n",
    "\n",
    "def resize2_32(slice):\n",
    "    return resize(slice, (32,32), anti_aliasing=True)\n",
    "\n",
    "def resize2_224(slice):\n",
    "    return resize(slice, (224,224), anti_aliasing=True)\n",
    "\n",
    "def get_spd(acts,type=\"gramm\"):\n",
    "    h,w,d = acts.shape\n",
    "    vect_acts = acts.reshape(h*w,d)\n",
    "    if type == \"gramm\":\n",
    "        spd = vect_acts.T@vect_acts\n",
    "    elif type == \"corr\":\n",
    "        spd = np.corrcoef(vect_acts.T)\n",
    "    elif type == \"cov\":\n",
    "        spd = np.cov(vect_acts.T)\n",
    "    return spd"
   ]
  },
  {
   "cell_type": "code",
   "execution_count": 1,
   "metadata": {},
   "outputs": [
    {
     "name": "stderr",
     "output_type": "stream",
     "text": [
      "2024-10-15 16:16:35.546528: E external/local_xla/xla/stream_executor/cuda/cuda_fft.cc:485] Unable to register cuFFT factory: Attempting to register factory for plugin cuFFT when one has already been registered\n",
      "2024-10-15 16:16:35.563266: E external/local_xla/xla/stream_executor/cuda/cuda_dnn.cc:8454] Unable to register cuDNN factory: Attempting to register factory for plugin cuDNN when one has already been registered\n",
      "2024-10-15 16:16:35.568338: E external/local_xla/xla/stream_executor/cuda/cuda_blas.cc:1452] Unable to register cuBLAS factory: Attempting to register factory for plugin cuBLAS when one has already been registered\n",
      "2024-10-15 16:16:35.581121: I tensorflow/core/platform/cpu_feature_guard.cc:210] This TensorFlow binary is optimized to use available CPU instructions in performance-critical operations.\n",
      "To enable the following instructions: AVX2 FMA, in other operations, rebuild TensorFlow with the appropriate compiler flags.\n"
     ]
    },
    {
     "ename": "",
     "evalue": "",
     "output_type": "error",
     "traceback": [
      "\u001b[1;31mThe Kernel crashed while executing code in the current cell or a previous cell. \n",
      "\u001b[1;31mPlease review the code in the cell(s) to identify a possible cause of the failure. \n",
      "\u001b[1;31mClick <a href='https://aka.ms/vscodeJupyterKernelCrash'>here</a> for more info. \n",
      "\u001b[1;31mView Jupyter <a href='command:jupyter.viewOutput'>log</a> for further details."
     ]
    }
   ],
   "source": [
    "#Using tensorflow and VGG9 describe the slices\n",
    "import tensorflow as tf\n",
    "from tensorflow.keras.applications import VGG19\n",
    "from tensorflow.keras.applications.vgg19 import preprocess_input\n",
    "from tensorflow.keras.models import Model\n",
    "from tensorflow.keras.layers import Input\n",
    "\n",
    "#Load the model\n",
    "vgg19 = VGG19(weights='imagenet', include_top=False, input_shape=(32,32,3))\n",
    "\n",
    "#Get the first pooling layer\n",
    "model = Model(inputs=vgg19.input, outputs=vgg19.get_layer('block1_conv2').output)\n",
    "model.summary()\n"
   ]
  },
  {
   "cell_type": "code",
   "execution_count": 22,
   "metadata": {},
   "outputs": [
    {
     "name": "stdout",
     "output_type": "stream",
     "text": [
      "Process 1295/1295  - (100.0% done))\r"
     ]
    }
   ],
   "source": [
    "PATH_SAVE = '/Datasets/PICAI_32x32x12/covs_vgg19/'\n",
    "i = 0\n",
    "long = len(info)\n",
    "for key in info:\n",
    "    vol1 = np.load(PATH_VOLS + key+ \"_0000\" + '.npy')\n",
    "    vol2 = np.load(PATH_VOLS + key+ \"_0001\" + '.npy')\n",
    "    vol3 = np.load(PATH_VOLS + key+ \"_0002\" + '.npy')\n",
    "\n",
    "    #Standarize the volumes\n",
    "    vol1 = (vol1 - vol1.mean()) / vol1.std()\n",
    "    vol2 = (vol2 - vol2.mean()) / vol2.std()\n",
    "    vol3 = (vol3 - vol3.mean()) / vol3.std()\n",
    "\n",
    "    vol_list = [vol1, vol2, vol3]\n",
    "    s1_list = []\n",
    "    s2_list = []\n",
    "    s3_list = []\n",
    "    for vol in vol_list:\n",
    "        s1,s2,s3 = get_center_slices(vol)\n",
    "        s1 = resize2_32(s1)\n",
    "        s2 = resize2_32(s2)\n",
    "\n",
    "        #Repeat slices 3 times along 2 axis\n",
    "        s1 = np.repeat(s1[:,:,np.newaxis], 3, axis=2)\n",
    "        s2 = np.repeat(s2[:,:,np.newaxis], 3, axis=2)\n",
    "        s3 = np.repeat(s3[:,:,np.newaxis], 3, axis=2)\n",
    "        s1_list.append(s1)\n",
    "        s2_list.append(s2)\n",
    "        s3_list.append(s3)\n",
    "\n",
    "    #Stack slices list over first axis\n",
    "    s1_l = np.stack(s1_list, axis=0)#shape(3 modalities,32,32,3 (RGB))\n",
    "    s2_l = np.stack(s2_list, axis=0)\n",
    "    s3_l = np.stack(s3_list, axis=0)\n",
    "\n",
    "    s1_acts = model.predict(s1_l,verbose=0)\n",
    "    s2_acts = model.predict(s2_l,verbose=0)\n",
    "    s3_acts = model.predict(s3_l,verbose=0)\n",
    "\n",
    "    s1_reordered = s1_acts.transpose(1,2,3,0).reshape(32,32,-1) #shape(32,32,3*64) = (32,32,192) -> COrrelacionando para un slice las 3 modalidades\n",
    "    s2_reordered = s2_acts.transpose(1,2,3,0).reshape(32,32,-1)\n",
    "    s3_reordered = s3_acts.transpose(1,2,3,0).reshape(32,32,-1)\n",
    "\n",
    "    mat = \"cov\"\n",
    "    s1_spd = get_spd(s1_reordered,mat)\n",
    "    s2_spd = get_spd(s2_reordered,mat)\n",
    "    s3_spd = get_spd(s3_reordered,mat)\n",
    "\n",
    "    #Save spds as .npy\n",
    "    np.save(PATH_SAVE + key + \"_s1\" + \".npy\", s1_spd)\n",
    "    np.save(PATH_SAVE + key + \"_s2\" + \".npy\", s2_spd)\n",
    "    np.save(PATH_SAVE + key + \"_s3\" + \".npy\", s3_spd)\n",
    "    \n",
    "    i = i+1\n",
    "    #Print loading bar\n",
    "    print(f\"Process {i}/{long}  - ({round((i/long)*100,3)}% done)\", end=\"\\r\")\n",
    "    sleep(0.05)"
   ]
  },
  {
   "cell_type": "markdown",
   "metadata": {},
   "source": [
    "# GEt slices only"
   ]
  },
  {
   "cell_type": "code",
   "execution_count": 4,
   "metadata": {},
   "outputs": [
    {
     "data": {
      "text/plain": [
       "'/Datasets/PICAI_32x32x12/volumes/'"
      ]
     },
     "execution_count": 4,
     "metadata": {},
     "output_type": "execute_result"
    }
   ],
   "source": [
    "PATH_VOLS"
   ]
  },
  {
   "cell_type": "code",
   "execution_count": 5,
   "metadata": {},
   "outputs": [],
   "source": [
    "PATH_SAVE = '/Datasets/PICAI_32x32x12/slices/'\n",
    "i = 0\n",
    "long = len(info)\n",
    "s_names_list = []\n",
    "for key in info:\n",
    "\n",
    "    name1 = key + \"_0000\"\n",
    "    name2 = key + \"_0001\"\n",
    "    name3 = key + \"_0002\"\n",
    "    \n",
    "    vol1 = np.load(PATH_VOLS + name1 + '.npy')\n",
    "    vol2 = np.load(PATH_VOLS + name2 + '.npy')\n",
    "    vol3 = np.load(PATH_VOLS + name3 + '.npy')\n",
    "\n",
    "    #Standarize the volumes\n",
    "    vol1 = (vol1 - vol1.mean()) / vol1.std()\n",
    "    vol2 = (vol2 - vol2.mean()) / vol2.std()\n",
    "    vol3 = (vol3 - vol3.mean()) / vol3.std()\n",
    "\n",
    "    vol_list = [vol1, vol2, vol3]\n",
    "    names_list = [name1, name2, name3]\n",
    "\n",
    "    for vol,name in zip(vol_list,names_list):\n",
    "        s1,s2,s3 = get_center_slices(vol)\n",
    "        s1 = resize2_32(s1)\n",
    "        s2 = resize2_32(s2)\n",
    "\n",
    "        #Save slice with identiffier si\n",
    "        s1_name = PATH_SAVE + name + \"_s0\" + \".npy\"\n",
    "        s2_name = PATH_SAVE + name + \"_s1\" + \".npy\"\n",
    "        s3_name = PATH_SAVE + name + \"_s2\" + \".npy\"\n",
    "\n",
    "        np.save(s1_name, s1)\n",
    "        np.save(s2_name, s2)\n",
    "        np.save(s3_name, s3)\n",
    "\n",
    "        s_names_list = s_names_list + [s1_name, s2_name, s3_name]\n",
    "    break\n",
    "    i = i+1\n",
    "    #Print loading bar\n",
    "    print(f\"Process {i}/{long}  - ({round((i/long)*100,3)}% done)\", end=\"\\r\")\n",
    "    sleep(0.05)"
   ]
  },
  {
   "cell_type": "code",
   "execution_count": 7,
   "metadata": {},
   "outputs": [
    {
     "name": "stdout",
     "output_type": "stream",
     "text": [
      "['10078_1000078', '11357_1001380', '10322_1000328', '10523_1000533', '10957_1000976', '10730_1000746', '10342_1000348', '10570_1000582', '10241_1000245', '10942_1000961', '11299_1001322', '10688_1000704', '10808_1000824', '10339_1000345', '10825_1000841', '11462_1001486', '11100_1001123', '10368_1000374', '11447_1001471', '10216_1000220', '10168_1000171', '10970_1000989', '10607_1000621', '10211_1000215', '10833_1000849', '11428_1001452', '11051_1001071', '10234_1000238', '11475_1001499', '10868_1000884', '11208_1001231', '10463_1000471', '11174_1001197', '11130_1001153', '11002_1001021', '11181_1001204', '11375_1001398', '11194_1001217']\n"
     ]
    }
   ],
   "source": [
    "# Extract keys where case_ISUP >= 4\n",
    "keys_with_case_ISUP_ge_4 = [key for key, value in info.items() if value.get('case_ISUP', 0) >= 4]\n",
    "\n",
    "# Print the result\n",
    "print(keys_with_case_ISUP_ge_4)"
   ]
  },
  {
   "cell_type": "code",
   "execution_count": 8,
   "metadata": {},
   "outputs": [
    {
     "name": "stdout",
     "output_type": "stream",
     "text": [
      "Process 38/1295  - (2.934% done)\r"
     ]
    }
   ],
   "source": [
    "# Initialize an empty list to store slices for plotting\n",
    "slices_list = []\n",
    "i = 0\n",
    "long = len(info)\n",
    "\n",
    "for key in keys_with_case_ISUP_ge_4:\n",
    "    name1 = key + \"_0000\"\n",
    "    name2 = key + \"_0001\"\n",
    "    name3 = key + \"_0002\"\n",
    "    \n",
    "    vol1 = np.load(PATH_VOLS + name1 + '.npy')\n",
    "    vol2 = np.load(PATH_VOLS + name2 + '.npy')\n",
    "    vol3 = np.load(PATH_VOLS + name3 + '.npy')\n",
    "\n",
    "    # Standardize the volumes\n",
    "    vol1 = (vol1 - vol1.mean()) / vol1.std()\n",
    "    vol2 = (vol2 - vol2.mean()) / vol2.std()\n",
    "    vol3 = (vol3 - vol3.mean()) / vol3.std()\n",
    "\n",
    "    vol_list = [vol1, vol2, vol3]\n",
    "    names_list = [name1, name2, name3]\n",
    "\n",
    "    for vol, name in zip(vol_list, names_list):\n",
    "        # Get slices\n",
    "        s1, s2, s3 = get_center_slices(vol)\n",
    "        # Resize to 32x32 if needed\n",
    "        s1 = resize2_32(s1)\n",
    "        s2 = resize2_32(s2)\n",
    "        \n",
    "        # Instead of saving slices, append them to the slices_list\n",
    "        slices_list.append((name, s1, s2, s3))\n",
    "\n",
    "    i = i + 1\n",
    "    # Print loading bar\n",
    "    print(f\"Process {i}/{long}  - ({round((i/long)*100,3)}% done)\", end=\"\\r\")\n",
    "    sleep(0.05)\n"
   ]
  },
  {
   "cell_type": "code",
   "execution_count": 31,
   "metadata": {},
   "outputs": [
    {
     "data": {
      "image/png": "[encoded data removed]",
      "text/plain": [
       "<Figure size 1200x400 with 3 Axes>"
      ]
     },
     "metadata": {},
     "output_type": "display_data"
    }
   ],
   "source": [
    "import matplotlib.pyplot as plt\n",
    "\n",
    "# Define the function to plot the slices\n",
    "def plot_slices(key, modality, slices_list):\n",
    "    # Search for the slices corresponding to the key and modality\n",
    "    for name, s1, s2, s3 in slices_list:\n",
    "        if name == key + \"_\" + modality:\n",
    "            # Create a figure with 3 subplots for the slices\n",
    "            fig, axes = plt.subplots(1, 3, figsize=(12, 4))\n",
    "            \n",
    "            # Plot the three slices\n",
    "            axes[0].imshow(s1, cmap='gray')\n",
    "            axes[0].set_title(f\"{name} - Slice s1\")\n",
    "            axes[0].axis('off')\n",
    "            \n",
    "            axes[1].imshow(s2, cmap='gray')\n",
    "            axes[1].set_title(f\"{name} - Slice s2\")\n",
    "            axes[1].axis('off')\n",
    "            \n",
    "            axes[2].imshow(s3, cmap='gray')\n",
    "            axes[2].set_title(f\"{name} - Slice s3\")\n",
    "            axes[2].axis('off')\n",
    "            \n",
    "            # Show the plot\n",
    "            plt.tight_layout()\n",
    "            plt.show()\n",
    "            return\n",
    "\n",
    "# Plot the slices for the first key\n",
    "key = keys_with_case_ISUP_ge_4[9]\n",
    "modality = \"0000\"\n",
    "plot_slices(key, modality, slices_list)"
   ]
  },
  {
   "cell_type": "code",
   "execution_count": null,
   "metadata": {},
   "outputs": [],
   "source": []
  }
 ],
 "metadata": {
  "kernelspec": {
   "display_name": "Python 3",
   "language": "python",
   "name": "python3"
  },
  "language_info": {
   "codemirror_mode": {
    "name": "ipython",
    "version": 3
   },
   "file_extension": ".py",
   "mimetype": "text/x-python",
   "name": "python",
   "nbconvert_exporter": "python",
   "pygments_lexer": "ipython3",
   "version": "3.11.0rc1"
  }
 },
 "nbformat": 4,
 "nbformat_minor": 2
}
