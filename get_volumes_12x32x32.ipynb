{
 "cells": [
  {
   "cell_type": "code",
   "execution_count": 1,
   "metadata": {},
   "outputs": [],
   "source": [
    "import numpy as np\n",
    "import matplotlib.pyplot as plt\n",
    "import matplotlib.patches as patches\n",
    "import SimpleITK as sitk\n",
    "import json \n",
    "import os\n",
    "from time import sleep\n",
    "\n",
    "%load_ext autoreload\n",
    "%autoreload 2"
   ]
  },
  {
   "cell_type": "code",
   "execution_count": 2,
   "metadata": {},
   "outputs": [],
   "source": [
    "def crop_mri_sequence(img: np.ndarray, \n",
    "                      centroid, \n",
    "                      target_size):\n",
    "        x_loc, y_loc, z_loc = centroid\n",
    "        d_target, h_target, w_target = target_size\n",
    "        z_loc_odd = d_target % 2 == 1\n",
    "        \n",
    "        current_image = img.take(\n",
    "                                axis = 2,\n",
    "                                indices = range(x_loc - int(w_target/2), x_loc + int(w_target/2)),\n",
    "                                mode='wrap'\n",
    "                            )\n",
    "\n",
    "        current_image = current_image.take(\n",
    "                                axis = 1,\n",
    "                                indices = range(y_loc - int(h_target/2), y_loc + int(h_target/2)),\n",
    "                                mode='wrap'\n",
    "                            )\n",
    "                            \n",
    "        current_image = current_image.take(\n",
    "                                axis = 0,\n",
    "                                indices = range(z_loc - int(d_target/2), z_loc + int(d_target/2) + z_loc_odd),\n",
    "                                mode='wrap'\n",
    "                            )                            \n",
    "        return current_image\n",
    "    \n",
    "def crop_centroidSlice(img, centroid, target_size):\n",
    "        x_loc, y_loc, z_loc = centroid\n",
    "        z_target, w_target, h_target = target_size\n",
    "        # keep z slice\n",
    "        img = img[z_loc]\n",
    "        current_image = img.take(\n",
    "                                axis = 1,\n",
    "                                indices = range(x_loc - int(w_target/2), x_loc + int(w_target/2)),\n",
    "                                mode='wrap'\n",
    "                            )\n",
    "\n",
    "        current_image = current_image.take(\n",
    "                                axis = 0,\n",
    "                                indices = range(y_loc - int(h_target/2), y_loc + int(h_target/2)),\n",
    "                                mode='wrap'\n",
    "                            )\n",
    "                                                      \n",
    "        return current_image\n",
    "    \n",
    "def plot_volumeAndCentroid(image_array,centroid, target_size):\n",
    "    x_loc, y_loc, z_loc = centroid\n",
    "    len_volume = image_array.shape[0]\n",
    "    # Plot all the slices\n",
    "    n_rows, n_columns = len_volume // 5 + 1, 5\n",
    "    z_loc_odd = target_size[0] % 2 == 1\n",
    "    \n",
    "    print(\"-\" * 20 + \"VOLUME\" + \"-\" * 20)\n",
    "    fig, ax = plt.subplots(n_rows, n_columns, figsize=(n_columns * 3, n_rows * 3), sharex=True, sharey=True)\n",
    "    for i in range(len_volume):\n",
    "        ax[i // 5, i % 5].imshow(image_array[i], cmap='gray')\n",
    "        ax[i // 5, i % 5].set_title(f\"Slice {i}\")\n",
    "        if i == z_loc:\n",
    "            ax[i // 5, i % 5].plot(x_loc, y_loc, 'x', markersize=8, color='red')\n",
    "        # Plotting the bounding box\n",
    "        if i >= z_loc - int(target_size[0] / 2) and i < z_loc + int(target_size[0] / 2) + z_loc_odd:\n",
    "            rect = patches.Rectangle((x_loc - target_size[1] // 2, y_loc - target_size[2] // 2),\n",
    "                                    target_size[1], target_size[2],\n",
    "                                    linewidth=2, edgecolor='red', facecolor='none')\n",
    "            ax[i // 5, i % 5].add_patch(rect)\n",
    "\n",
    "    plt.tight_layout()\n",
    "    plt.show()      "
   ]
  },
  {
   "cell_type": "code",
   "execution_count": 3,
   "metadata": {},
   "outputs": [],
   "source": [
    "PATH_IMAGES = '/Datasets/PICAI_olmos/Task2308_prep_picai_baseline/imagesTr' \n",
    "PATH_SEG = '/Datasets/PICAI_olmos/Task2308_prep_picai_baseline/labelsTr'\n",
    "PATH_GLAND = '/Datasets/PICAI_olmos/Task2308_prep_picai_baseline/labelsTr_bosma'\n",
    "\n",
    "PATH_JSON_INFO = '/Datasets/PICAI_olmos/info-12x32x32.json'\n",
    "#read json\n",
    "\n",
    "with open(PATH_JSON_INFO, 'r') as f:\n",
    "    info = json.load(f)"
   ]
  },
  {
   "cell_type": "code",
   "execution_count": 5,
   "metadata": {},
   "outputs": [
    {
     "name": "stdout",
     "output_type": "stream",
     "text": [
      "Name: 11107_1001130\n",
      "Shape T2: (24, 384, 384)\n",
      "Shape ADC: (24, 384, 384)\n",
      "Shape BVAL: (24, 384, 384)\n",
      "Name: 10078_1000078\n",
      "Shape T2: (24, 384, 384)\n",
      "Shape ADC: (24, 384, 384)\n",
      "Shape BVAL: (24, 384, 384)\n",
      "Name: 11244_1001267\n",
      "Shape T2: (24, 384, 384)\n",
      "Shape ADC: (24, 384, 384)\n",
      "Shape BVAL: (24, 384, 384)\n",
      "Name: 11024_1001044\n",
      "Shape T2: (24, 384, 384)\n",
      "Shape ADC: (24, 384, 384)\n",
      "Shape BVAL: (24, 384, 384)\n",
      "Name: 10798_1000814\n",
      "Shape T2: (24, 384, 384)\n",
      "Shape ADC: (24, 384, 384)\n",
      "Shape BVAL: (24, 384, 384)\n",
      "Name: 10604_1000618\n",
      "Shape T2: (24, 384, 384)\n",
      "Shape ADC: (24, 384, 384)\n",
      "Shape BVAL: (24, 384, 384)\n",
      "Name: 10716_1000732\n",
      "Shape T2: (24, 384, 384)\n",
      "Shape ADC: (24, 384, 384)\n",
      "Shape BVAL: (24, 384, 384)\n",
      "Name: 11357_1001380\n",
      "Shape T2: (24, 384, 384)\n",
      "Shape ADC: (24, 384, 384)\n",
      "Shape BVAL: (24, 384, 384)\n",
      "Name: 11287_1001310\n",
      "Shape T2: (24, 384, 384)\n",
      "Shape ADC: (24, 384, 384)\n",
      "Shape BVAL: (24, 384, 384)\n",
      "Name: 11470_1001494\n",
      "Shape T2: (24, 384, 384)\n",
      "Shape ADC: (24, 384, 384)\n",
      "Shape BVAL: (24, 384, 384)\n",
      "Name: 10116_1000116\n",
      "Shape T2: (24, 384, 384)\n",
      "Shape ADC: (24, 384, 384)\n",
      "Shape BVAL: (24, 384, 384)\n"
     ]
    },
    {
     "ename": "KeyboardInterrupt",
     "evalue": "",
     "output_type": "error",
     "traceback": [
      "\u001b[0;31m---------------------------------------------------------------------------\u001b[0m",
      "\u001b[0;31mKeyboardInterrupt\u001b[0m                         Traceback (most recent call last)",
      "\u001b[0;32m/tmp/ipykernel_685/3642117585.py\u001b[0m in \u001b[0;36m?\u001b[0;34m()\u001b[0m\n\u001b[1;32m     13\u001b[0m     \u001b[0mnames\u001b[0m\u001b[0;34m.\u001b[0m\u001b[0mappend\u001b[0m\u001b[0;34m(\u001b[0m\u001b[0mname\u001b[0m\u001b[0;34m)\u001b[0m\u001b[0;34m\u001b[0m\u001b[0;34m\u001b[0m\u001b[0m\n\u001b[1;32m     14\u001b[0m     \u001b[0mcentroid\u001b[0m \u001b[0;34m=\u001b[0m \u001b[0minfo\u001b[0m\u001b[0;34m[\u001b[0m\u001b[0mname\u001b[0m\u001b[0;34m]\u001b[0m\u001b[0;34m[\u001b[0m\u001b[0;34m'centroid'\u001b[0m\u001b[0;34m]\u001b[0m\u001b[0;34m\u001b[0m\u001b[0;34m\u001b[0m\u001b[0m\n\u001b[1;32m     15\u001b[0m \u001b[0;34m\u001b[0m\u001b[0m\n\u001b[1;32m     16\u001b[0m     \u001b[0mt2_array\u001b[0m \u001b[0;34m=\u001b[0m \u001b[0msitk\u001b[0m\u001b[0;34m.\u001b[0m\u001b[0mGetArrayFromImage\u001b[0m\u001b[0;34m(\u001b[0m\u001b[0msitk\u001b[0m\u001b[0;34m.\u001b[0m\u001b[0mReadImage\u001b[0m\u001b[0;34m(\u001b[0m\u001b[0mos\u001b[0m\u001b[0;34m.\u001b[0m\u001b[0mpath\u001b[0m\u001b[0;34m.\u001b[0m\u001b[0mjoin\u001b[0m\u001b[0;34m(\u001b[0m\u001b[0mPATH_IMAGES\u001b[0m\u001b[0;34m,\u001b[0m \u001b[0;34mf'{name}_0000.nii.gz'\u001b[0m\u001b[0;34m)\u001b[0m\u001b[0;34m)\u001b[0m\u001b[0;34m)\u001b[0m\u001b[0;34m\u001b[0m\u001b[0;34m\u001b[0m\u001b[0m\n\u001b[0;32m---> 17\u001b[0;31m     \u001b[0madc_array\u001b[0m \u001b[0;34m=\u001b[0m \u001b[0msitk\u001b[0m\u001b[0;34m.\u001b[0m\u001b[0mGetArrayFromImage\u001b[0m\u001b[0;34m(\u001b[0m\u001b[0msitk\u001b[0m\u001b[0;34m.\u001b[0m\u001b[0mReadImage\u001b[0m\u001b[0;34m(\u001b[0m\u001b[0mos\u001b[0m\u001b[0;34m.\u001b[0m\u001b[0mpath\u001b[0m\u001b[0;34m.\u001b[0m\u001b[0mjoin\u001b[0m\u001b[0;34m(\u001b[0m\u001b[0mPATH_IMAGES\u001b[0m\u001b[0;34m,\u001b[0m \u001b[0;34mf'{name}_0001.nii.gz'\u001b[0m\u001b[0;34m)\u001b[0m\u001b[0;34m)\u001b[0m\u001b[0;34m)\u001b[0m\u001b[0;34m\u001b[0m\u001b[0;34m\u001b[0m\u001b[0m\n\u001b[0m\u001b[1;32m     18\u001b[0m     \u001b[0mbval_array\u001b[0m \u001b[0;34m=\u001b[0m \u001b[0msitk\u001b[0m\u001b[0;34m.\u001b[0m\u001b[0mGetArrayFromImage\u001b[0m\u001b[0;34m(\u001b[0m\u001b[0msitk\u001b[0m\u001b[0;34m.\u001b[0m\u001b[0mReadImage\u001b[0m\u001b[0;34m(\u001b[0m\u001b[0mos\u001b[0m\u001b[0;34m.\u001b[0m\u001b[0mpath\u001b[0m\u001b[0;34m.\u001b[0m\u001b[0mjoin\u001b[0m\u001b[0;34m(\u001b[0m\u001b[0mPATH_IMAGES\u001b[0m\u001b[0;34m,\u001b[0m \u001b[0;34mf'{name}_0002.nii.gz'\u001b[0m\u001b[0;34m)\u001b[0m\u001b[0;34m)\u001b[0m\u001b[0;34m)\u001b[0m\u001b[0;34m\u001b[0m\u001b[0;34m\u001b[0m\u001b[0m\n\u001b[1;32m     19\u001b[0m \u001b[0;34m\u001b[0m\u001b[0m\n\u001b[1;32m     20\u001b[0m     \u001b[0mt2_centerVolume\u001b[0m \u001b[0;34m=\u001b[0m \u001b[0mcrop_mri_sequence\u001b[0m\u001b[0;34m(\u001b[0m\u001b[0mt2_array\u001b[0m\u001b[0;34m,\u001b[0m \u001b[0mcentroid\u001b[0m\u001b[0;34m,\u001b[0m \u001b[0mtarget_size\u001b[0m\u001b[0;34m)\u001b[0m\u001b[0;34m\u001b[0m\u001b[0;34m\u001b[0m\u001b[0m\n",
      "\u001b[0;32m/usr/local/lib/python3.11/dist-packages/SimpleITK/extra.py\u001b[0m in \u001b[0;36m?\u001b[0;34m(fileName, outputPixelType, imageIO)\u001b[0m\n\u001b[1;32m    371\u001b[0m         \u001b[0mreader\u001b[0m\u001b[0;34m.\u001b[0m\u001b[0mSetFileNames\u001b[0m\u001b[0;34m(\u001b[0m\u001b[0;34m[\u001b[0m\u001b[0mstr\u001b[0m\u001b[0;34m(\u001b[0m\u001b[0mname\u001b[0m\u001b[0;34m)\u001b[0m \u001b[0;32mfor\u001b[0m \u001b[0mname\u001b[0m \u001b[0;32min\u001b[0m \u001b[0mfileName\u001b[0m\u001b[0;34m]\u001b[0m\u001b[0;34m)\u001b[0m\u001b[0;34m\u001b[0m\u001b[0;34m\u001b[0m\u001b[0m\n\u001b[1;32m    372\u001b[0m \u001b[0;34m\u001b[0m\u001b[0m\n\u001b[1;32m    373\u001b[0m     \u001b[0mreader\u001b[0m\u001b[0;34m.\u001b[0m\u001b[0mSetImageIO\u001b[0m\u001b[0;34m(\u001b[0m\u001b[0mimageIO\u001b[0m\u001b[0;34m)\u001b[0m\u001b[0;34m\u001b[0m\u001b[0;34m\u001b[0m\u001b[0m\n\u001b[1;32m    374\u001b[0m     \u001b[0mreader\u001b[0m\u001b[0;34m.\u001b[0m\u001b[0mSetOutputPixelType\u001b[0m\u001b[0;34m(\u001b[0m\u001b[0moutputPixelType\u001b[0m\u001b[0;34m)\u001b[0m\u001b[0;34m\u001b[0m\u001b[0;34m\u001b[0m\u001b[0m\n\u001b[0;32m--> 375\u001b[0;31m     \u001b[0;32mreturn\u001b[0m \u001b[0mreader\u001b[0m\u001b[0;34m.\u001b[0m\u001b[0mExecute\u001b[0m\u001b[0;34m(\u001b[0m\u001b[0;34m)\u001b[0m\u001b[0;34m\u001b[0m\u001b[0;34m\u001b[0m\u001b[0m\n\u001b[0m",
      "\u001b[0;32m/usr/local/lib/python3.11/dist-packages/SimpleITK/SimpleITK.py\u001b[0m in \u001b[0;36m?\u001b[0;34m(self)\u001b[0m\n\u001b[1;32m   8426\u001b[0m         \u001b[0mtype\u001b[0m \u001b[0mto\u001b[0m \u001b[0mbe\u001b[0m \u001b[0msame\u001b[0m \u001b[0;32mas\u001b[0m \u001b[0mthe\u001b[0m \u001b[0mfile\u001b[0m\u001b[0;34m.\u001b[0m \u001b[0mIf\u001b[0m \u001b[0mthe\u001b[0m \u001b[0mpixel\u001b[0m \u001b[0mtype\u001b[0m \u001b[0;32mis\u001b[0m \u001b[0mspecified\u001b[0m \u001b[0mthen\u001b[0m \u001b[0mthe\u001b[0m \u001b[0mitk\u001b[0m\u001b[0;34m:\u001b[0m\u001b[0;34m:\u001b[0m\u001b[0mConvertPixelBuffer\u001b[0m \u001b[0mwill\u001b[0m \u001b[0mbe\u001b[0m \u001b[0mused\u001b[0m \u001b[0mto\u001b[0m \u001b[0mconvert\u001b[0m \u001b[0mthe\u001b[0m \u001b[0mpixels\u001b[0m\u001b[0;34m.\u001b[0m\u001b[0;34m\u001b[0m\u001b[0;34m\u001b[0m\u001b[0m\n\u001b[1;32m   8427\u001b[0m \u001b[0;34m\u001b[0m\u001b[0m\n\u001b[1;32m   8428\u001b[0m \u001b[0;34m\u001b[0m\u001b[0m\n\u001b[1;32m   8429\u001b[0m         \"\"\"\n\u001b[0;32m-> 8430\u001b[0;31m         \u001b[0;32mreturn\u001b[0m \u001b[0m_SimpleITK\u001b[0m\u001b[0;34m.\u001b[0m\u001b[0mImageFileReader_Execute\u001b[0m\u001b[0;34m(\u001b[0m\u001b[0mself\u001b[0m\u001b[0;34m)\u001b[0m\u001b[0;34m\u001b[0m\u001b[0;34m\u001b[0m\u001b[0m\n\u001b[0m",
      "\u001b[0;31mKeyboardInterrupt\u001b[0m: "
     ]
    }
   ],
   "source": [
    "target_size = (12,32,32)\n",
    "\n",
    "list_t2_Vols = []\n",
    "list_adc_Vols = []\n",
    "list_bval_Vols = []\n",
    "labels = []\n",
    "names = []\n",
    "\n",
    "long = len(info)\n",
    "i = 0\n",
    "for k in info:\n",
    "    name = str(k)\n",
    "    names.append(name)\n",
    "    centroid = info[name]['centroid']\n",
    "\n",
    "    t2_array = sitk.GetArrayFromImage(sitk.ReadImage(os.path.join(PATH_IMAGES, f'{name}_0000.nii.gz')))\n",
    "    adc_array = sitk.GetArrayFromImage(sitk.ReadImage(os.path.join(PATH_IMAGES, f'{name}_0001.nii.gz')))\n",
    "    bval_array = sitk.GetArrayFromImage(sitk.ReadImage(os.path.join(PATH_IMAGES, f'{name}_0002.nii.gz')))\n",
    "\n",
    "    t2_centerVolume = crop_mri_sequence(t2_array, centroid, target_size)\n",
    "    adc_centerVolume = crop_mri_sequence(adc_array, centroid, target_size)\n",
    "    bval_centerVolume = crop_mri_sequence(bval_array, centroid, target_size)\n",
    "\n",
    "    #Save volumes as npys\n",
    "    # np.save(f'/Datasets/PICAI_32_32_12_volumes/{name}_0000.npy', t2_centerVolume.transpose(1,2,0))\n",
    "    # np.save(f'/Datasets/PICAI_32_32_12_volumes/{name}_0001.npy', adc_centerVolume.transpose(1,2,0))\n",
    "    # np.save(f'/Datasets/PICAI_32_32_12_volumes/{name}_0002.npy', bval_centerVolume.transpose(1,2,0))\n",
    "\n",
    "    #Print the shape of all arrays and volumes\n",
    "    print(f\"Name: {name}\")\n",
    "    print(f\"Shape T2: {t2_array.shape}\")\n",
    "    print(f\"Shape ADC: {adc_array.shape}\")\n",
    "    print(f\"Shape BVAL: {bval_array.shape}\")\n",
    "\n",
    "    label = info[name][\"case_ISUP\"]\n",
    "    labels.append(label)\n",
    "    i = i+1\n",
    "    #Print loading bar\n",
    "    #print(f\"Process {i}/{long}  - ({round((i/long)*100,3)}% done)\", end=\"\\r\")\n",
    "    sleep(0.1)\n",
    "    "
   ]
  },
  {
   "cell_type": "code",
   "execution_count": 38,
   "metadata": {},
   "outputs": [
    {
     "data": {
      "text/plain": [
       "494"
      ]
     },
     "execution_count": 38,
     "metadata": {},
     "output_type": "execute_result"
    }
   ],
   "source": [
    "t2_centerVolume.max()"
   ]
  },
  {
   "cell_type": "code",
   "execution_count": 24,
   "metadata": {},
   "outputs": [
    {
     "name": "stdout",
     "output_type": "stream",
     "text": [
      "The shapes are: (32, 32, 32), (32, 32, 32), (32, 32, 32)\n"
     ]
    }
   ],
   "source": [
    "name = \"11107_1001130\"\n",
    "centroid = info[name]['centroid']\n",
    "target_size = (12,32,32)\n",
    "\n",
    "t2_array = sitk.GetArrayFromImage(sitk.ReadImage(os.path.join(PATH_IMAGES, f'{name}_0000.nii.gz')))\n",
    "adc_array = sitk.GetArrayFromImage(sitk.ReadImage(os.path.join(PATH_IMAGES, f'{name}_0001.nii.gz')))\n",
    "bval_array = sitk.GetArrayFromImage(sitk.ReadImage(os.path.join(PATH_IMAGES, f'{name}_0002.nii.gz')))\n",
    "\n",
    "t2_centerVolume = crop_mri_sequence(t2_array, centroid, target_size)\n",
    "adc_centerVolume = crop_mri_sequence(adc_array, centroid, target_size)\n",
    "bval_centerVolume = crop_mri_sequence(bval_array, centroid, target_size)\n",
    "\n",
    "label = info[name][\"case_ISUP\"]\n",
    "\n",
    "print(f\"The shapes are: {t2_centerVolume.shape}, {adc_centerVolume.shape}, {bval_centerVolume.shape}\")"
   ]
  },
  {
   "cell_type": "code",
   "execution_count": null,
   "metadata": {},
   "outputs": [],
   "source": [
    "from skimage.transform import resize\n",
    "def get_slices(arr):\n",
    "    \"\"\"\n",
    "    Given an array of sice (32,32,12)\n",
    "    gets the slices that go thru the centroid\n",
    "    \"\"\"\n",
    "    s1 = arr[15,:,:]\n",
    "    s2 = arr[:,15,:]\n",
    "    s3 = arr[:,:,5]\n",
    "\n",
    "    #Resize each slice to 224x224\n",
    "    s1 = resize(s1, (224,224), anti_aliasing=True)\n",
    "    s2 = resize(s2, (224,224), anti_aliasing=True)\n",
    "    s3 = resize(s3, (224,224), anti_aliasing=True)\n",
    "\n",
    "    #Repeat slices algon the 3rd axis\n",
    "    s1 = np.repeat(s1[:,:,np.newaxis], 3, axis=2)\n",
    "    s2 = np.repeat(s2[:,:,np.newaxis], 3, axis=2)\n",
    "    s3 = np.repeat(s3[:,:,np.newaxis], 3, axis=2)\n",
    "\n",
    "    return [s1, s2, s3]\n",
    "    "
   ]
  },
  {
   "cell_type": "code",
   "execution_count": 32,
   "metadata": {},
   "outputs": [
    {
     "data": {
      "image/png": "[encoded data removed]",
      "text/plain": [
       "<Figure size 1500x500 with 3 Axes>"
      ]
     },
     "metadata": {},
     "output_type": "display_data"
    }
   ],
   "source": [
    "#Plot the slice ith slice in each using subplots\n",
    "\n",
    "i = 0\n",
    "fig, ax = plt.subplots(1, 3, figsize=(15, 5))\n",
    "ax[0].imshow(t2_centerVolume[i,:,:], cmap='gray')\n",
    "ax[0].set_title('T2')\n",
    "ax[1].imshow(adc_centerVolume[i,:,:], cmap='gray')\n",
    "ax[1].set_title('ADC')\n",
    "ax[2].imshow(bval_centerVolume[i,:,:], cmap='gray')\n",
    "ax[2].set_title('BVAL')\n",
    "plt.show()\n"
   ]
  },
  {
   "cell_type": "code",
   "execution_count": 6,
   "metadata": {},
   "outputs": [
    {
     "name": "stderr",
     "output_type": "stream",
     "text": [
      "2024-03-13 18:32:58.446360: I tensorflow/core/platform/cpu_feature_guard.cc:210] This TensorFlow binary is optimized to use available CPU instructions in performance-critical operations.\n",
      "To enable the following instructions: AVX2 FMA, in other operations, rebuild TensorFlow with the appropriate compiler flags.\n",
      "2024-03-13 18:33:13.878656: E external/local_xla/xla/stream_executor/cuda/cuda_driver.cc:282] failed call to cuInit: CUDA_ERROR_COMPAT_NOT_SUPPORTED_ON_DEVICE: forward compatibility was attempted on non supported HW\n",
      "2024-03-13 18:33:13.878728: I external/local_xla/xla/stream_executor/cuda/cuda_diagnostics.cc:134] retrieving CUDA diagnostic information for host: 0c0fd205d412\n",
      "2024-03-13 18:33:13.878736: I external/local_xla/xla/stream_executor/cuda/cuda_diagnostics.cc:141] hostname: 0c0fd205d412\n",
      "2024-03-13 18:33:13.878821: I external/local_xla/xla/stream_executor/cuda/cuda_diagnostics.cc:165] libcuda reported version is: 545.23.6\n",
      "2024-03-13 18:33:13.878843: I external/local_xla/xla/stream_executor/cuda/cuda_diagnostics.cc:169] kernel reported version is: 535.154.5\n",
      "2024-03-13 18:33:13.878849: E external/local_xla/xla/stream_executor/cuda/cuda_diagnostics.cc:251] kernel version 535.154.5 does not match DSO version 545.23.6 -- cannot find working devices in this configuration\n"
     ]
    },
    {
     "name": "stdout",
     "output_type": "stream",
     "text": [
      "Downloading data from https://storage.googleapis.com/tensorflow/keras-applications/vgg19/vgg19_weights_tf_dim_ordering_tf_kernels.h5\n",
      "\u001b[1m574710816/574710816\u001b[0m \u001b[32m━━━━━━━━━━━━━━━━━━━━\u001b[0m\u001b[37m\u001b[0m \u001b[1m51s\u001b[0m 0us/step\n"
     ]
    },
    {
     "data": {
      "text/html": [
       "<pre style=\"white-space:pre;overflow-x:auto;line-height:normal;font-family:Menlo,'DejaVu Sans Mono',consolas,'Courier New',monospace\"><span style=\"font-weight: bold\">Model: \"functional_1\"</span>\n",
       "</pre>\n"
      ],
      "text/plain": [
       "\u001b[1mModel: \"functional_1\"\u001b[0m\n"
      ]
     },
     "metadata": {},
     "output_type": "display_data"
    },
    {
     "data": {
      "text/html": [
       "<pre style=\"white-space:pre;overflow-x:auto;line-height:normal;font-family:Menlo,'DejaVu Sans Mono',consolas,'Courier New',monospace\">┏━━━━━━━━━━━━━━━━━━━━━━━━━━━━━━━━━┳━━━━━━━━━━━━━━━━━━━━━━━━┳━━━━━━━━━━━━━━━┓\n",
       "┃<span style=\"font-weight: bold\"> Layer (type)                    </span>┃<span style=\"font-weight: bold\"> Output Shape           </span>┃<span style=\"font-weight: bold\">       Param # </span>┃\n",
       "┡━━━━━━━━━━━━━━━━━━━━━━━━━━━━━━━━━╇━━━━━━━━━━━━━━━━━━━━━━━━╇━━━━━━━━━━━━━━━┩\n",
       "│ input_layer (<span style=\"color: #0087ff; text-decoration-color: #0087ff\">InputLayer</span>)        │ (<span style=\"color: #00d7ff; text-decoration-color: #00d7ff\">None</span>, <span style=\"color: #00af00; text-decoration-color: #00af00\">224</span>, <span style=\"color: #00af00; text-decoration-color: #00af00\">224</span>, <span style=\"color: #00af00; text-decoration-color: #00af00\">3</span>)    │             <span style=\"color: #00af00; text-decoration-color: #00af00\">0</span> │\n",
       "├─────────────────────────────────┼────────────────────────┼───────────────┤\n",
       "│ block1_conv1 (<span style=\"color: #0087ff; text-decoration-color: #0087ff\">Conv2D</span>)           │ (<span style=\"color: #00d7ff; text-decoration-color: #00d7ff\">None</span>, <span style=\"color: #00af00; text-decoration-color: #00af00\">224</span>, <span style=\"color: #00af00; text-decoration-color: #00af00\">224</span>, <span style=\"color: #00af00; text-decoration-color: #00af00\">64</span>)   │         <span style=\"color: #00af00; text-decoration-color: #00af00\">1,792</span> │\n",
       "├─────────────────────────────────┼────────────────────────┼───────────────┤\n",
       "│ block1_conv2 (<span style=\"color: #0087ff; text-decoration-color: #0087ff\">Conv2D</span>)           │ (<span style=\"color: #00d7ff; text-decoration-color: #00d7ff\">None</span>, <span style=\"color: #00af00; text-decoration-color: #00af00\">224</span>, <span style=\"color: #00af00; text-decoration-color: #00af00\">224</span>, <span style=\"color: #00af00; text-decoration-color: #00af00\">64</span>)   │        <span style=\"color: #00af00; text-decoration-color: #00af00\">36,928</span> │\n",
       "├─────────────────────────────────┼────────────────────────┼───────────────┤\n",
       "│ block1_pool (<span style=\"color: #0087ff; text-decoration-color: #0087ff\">MaxPooling2D</span>)      │ (<span style=\"color: #00d7ff; text-decoration-color: #00d7ff\">None</span>, <span style=\"color: #00af00; text-decoration-color: #00af00\">112</span>, <span style=\"color: #00af00; text-decoration-color: #00af00\">112</span>, <span style=\"color: #00af00; text-decoration-color: #00af00\">64</span>)   │             <span style=\"color: #00af00; text-decoration-color: #00af00\">0</span> │\n",
       "└─────────────────────────────────┴────────────────────────┴───────────────┘\n",
       "</pre>\n"
      ],
      "text/plain": [
       "┏━━━━━━━━━━━━━━━━━━━━━━━━━━━━━━━━━┳━━━━━━━━━━━━━━━━━━━━━━━━┳━━━━━━━━━━━━━━━┓\n",
       "┃\u001b[1m \u001b[0m\u001b[1mLayer (type)                   \u001b[0m\u001b[1m \u001b[0m┃\u001b[1m \u001b[0m\u001b[1mOutput Shape          \u001b[0m\u001b[1m \u001b[0m┃\u001b[1m \u001b[0m\u001b[1m      Param #\u001b[0m\u001b[1m \u001b[0m┃\n",
       "┡━━━━━━━━━━━━━━━━━━━━━━━━━━━━━━━━━╇━━━━━━━━━━━━━━━━━━━━━━━━╇━━━━━━━━━━━━━━━┩\n",
       "│ input_layer (\u001b[38;5;33mInputLayer\u001b[0m)        │ (\u001b[38;5;45mNone\u001b[0m, \u001b[38;5;34m224\u001b[0m, \u001b[38;5;34m224\u001b[0m, \u001b[38;5;34m3\u001b[0m)    │             \u001b[38;5;34m0\u001b[0m │\n",
       "├─────────────────────────────────┼────────────────────────┼───────────────┤\n",
       "│ block1_conv1 (\u001b[38;5;33mConv2D\u001b[0m)           │ (\u001b[38;5;45mNone\u001b[0m, \u001b[38;5;34m224\u001b[0m, \u001b[38;5;34m224\u001b[0m, \u001b[38;5;34m64\u001b[0m)   │         \u001b[38;5;34m1,792\u001b[0m │\n",
       "├─────────────────────────────────┼────────────────────────┼───────────────┤\n",
       "│ block1_conv2 (\u001b[38;5;33mConv2D\u001b[0m)           │ (\u001b[38;5;45mNone\u001b[0m, \u001b[38;5;34m224\u001b[0m, \u001b[38;5;34m224\u001b[0m, \u001b[38;5;34m64\u001b[0m)   │        \u001b[38;5;34m36,928\u001b[0m │\n",
       "├─────────────────────────────────┼────────────────────────┼───────────────┤\n",
       "│ block1_pool (\u001b[38;5;33mMaxPooling2D\u001b[0m)      │ (\u001b[38;5;45mNone\u001b[0m, \u001b[38;5;34m112\u001b[0m, \u001b[38;5;34m112\u001b[0m, \u001b[38;5;34m64\u001b[0m)   │             \u001b[38;5;34m0\u001b[0m │\n",
       "└─────────────────────────────────┴────────────────────────┴───────────────┘\n"
      ]
     },
     "metadata": {},
     "output_type": "display_data"
    },
    {
     "data": {
      "text/html": [
       "<pre style=\"white-space:pre;overflow-x:auto;line-height:normal;font-family:Menlo,'DejaVu Sans Mono',consolas,'Courier New',monospace\"><span style=\"font-weight: bold\"> Total params: </span><span style=\"color: #00af00; text-decoration-color: #00af00\">38,720</span> (151.25 KB)\n",
       "</pre>\n"
      ],
      "text/plain": [
       "\u001b[1m Total params: \u001b[0m\u001b[38;5;34m38,720\u001b[0m (151.25 KB)\n"
      ]
     },
     "metadata": {},
     "output_type": "display_data"
    },
    {
     "data": {
      "text/html": [
       "<pre style=\"white-space:pre;overflow-x:auto;line-height:normal;font-family:Menlo,'DejaVu Sans Mono',consolas,'Courier New',monospace\"><span style=\"font-weight: bold\"> Trainable params: </span><span style=\"color: #00af00; text-decoration-color: #00af00\">38,720</span> (151.25 KB)\n",
       "</pre>\n"
      ],
      "text/plain": [
       "\u001b[1m Trainable params: \u001b[0m\u001b[38;5;34m38,720\u001b[0m (151.25 KB)\n"
      ]
     },
     "metadata": {},
     "output_type": "display_data"
    },
    {
     "data": {
      "text/html": [
       "<pre style=\"white-space:pre;overflow-x:auto;line-height:normal;font-family:Menlo,'DejaVu Sans Mono',consolas,'Courier New',monospace\"><span style=\"font-weight: bold\"> Non-trainable params: </span><span style=\"color: #00af00; text-decoration-color: #00af00\">0</span> (0.00 B)\n",
       "</pre>\n"
      ],
      "text/plain": [
       "\u001b[1m Non-trainable params: \u001b[0m\u001b[38;5;34m0\u001b[0m (0.00 B)\n"
      ]
     },
     "metadata": {},
     "output_type": "display_data"
    }
   ],
   "source": [
    "#Load VGG19 weights using tensorflow\n",
    "import tensorflow as tf\n",
    "from tensorflow.keras.applications import VGG19\n",
    "\n",
    "\n",
    "#Load VGG19\n",
    "input_shape = (224, 224, 3)\n",
    "vgg19 = VGG19( weights='imagenet', input_shape=input_shape)\n",
    "\n",
    "#Get activations of 4th layer\n",
    "model = tf.keras.Model(inputs=vgg19.input, outputs=vgg19.get_layer('block1_pool').output)\n",
    "\n",
    "#summary of model\n",
    "model.summary()\n"
   ]
  },
  {
   "cell_type": "code",
   "execution_count": 31,
   "metadata": {},
   "outputs": [],
   "source": [
    "#import pca\n",
    "from sklearn.decomposition import PCA\n",
    "from skimage.transform import resize\n",
    "\n",
    "\n",
    "def get_acts(model, arr):\n",
    "    \"\"\"\" arr is an array of size (32,32,n_channels)\n",
    "        each channel should be repeated 3 times to match the input shape of the model\n",
    "    \"\"\"\n",
    "    img = arr.transpose(1,2,0)[np.newaxis,:,:,:]\n",
    "    img = np.repeat(img,3, axis=0).transpose(3,1,2,0)\n",
    "    resized_img = np.empty((img.shape[0], 224, 224, 3))\n",
    "    for i in range(img.shape[0]):\n",
    "        resized_img[i] = resize(img[i], (224, 224, 3))\n",
    "\n",
    "    img = resized_img\n",
    "\n",
    "    img = tf.keras.applications.vgg19.preprocess_input(img)\n",
    "    acts = model.predict(img, verbose=0)\n",
    "    return acts\n",
    "\n",
    "def get_spd_acts(acts1,acts2,acts3):\n",
    "    # Vectorize de 0 and 3 axis of entries\n",
    "\n",
    "    v1 = acts1.transpose(1,2,3,0).reshape(acts1.shape[1],acts.shape[2],-1)\n",
    "    v2 = acts2.transpose(1,2,3,0).reshape(acts2.shape[1],acts.shape[2],-1)\n",
    "    v3 = acts3.transpose(1,2,3,0).reshape(acts3.shape[1],acts.shape[2],-1)\n",
    "\n",
    "    vtotal = np.concatenate((v1,v2,v3),axis=2)\n",
    "    vtotal = vtotal.reshape(-1,vtotal.shape[2])\n",
    "    cov = np.cov(vtotal.T)\n",
    "    return cov\n",
    "\n",
    "\n",
    "#Get activations for the 6th slice of the first volume\n",
    "acts = get_acts(model, t2_centerVolume)\n",
    "\n",
    "\n",
    "\n"
   ]
  },
  {
   "cell_type": "code",
   "execution_count": 28,
   "metadata": {},
   "outputs": [
    {
     "data": {
      "text/plain": [
       "<matplotlib.image.AxesImage at 0x7f1688df8250>"
      ]
     },
     "execution_count": 28,
     "metadata": {},
     "output_type": "execute_result"
    },
    {
     "data": {
      "image/png": "[encoded data removed]",
      "text/plain": [
       "<Figure size 640x480 with 1 Axes>"
      ]
     },
     "metadata": {},
     "output_type": "display_data"
    }
   ],
   "source": [
    "eigenvalues, eigenvectors = np.linalg.eig(cov)\n",
    "\n",
    "# Sort the eigenvectors by the eigenvalues in descending order\n",
    "idx = eigenvalues.argsort()[::-1]\n",
    "eigenvalues = eigenvalues[idx]\n",
    "eigenvectors = eigenvectors[:,idx]\n",
    "\n",
    "# Select the first 128 eigenvectors\n",
    "eigenvectors_reduced = eigenvectors[:, :128]\n",
    "\n",
    "# Transform the covariance matrix to the reduced space\n",
    "cov_reduced = np.real(eigenvectors_reduced.T @ cov @ eigenvectors_reduced)\n",
    "\n",
    "plt.imshow(cov_reduced)"
   ]
  },
  {
   "cell_type": "code",
   "execution_count": 33,
   "metadata": {},
   "outputs": [
    {
     "name": "stdout",
     "output_type": "stream",
     "text": [
      "Process 1295/1295  - (100.0% done))\r"
     ]
    }
   ],
   "source": [
    "from time import sleep\n",
    "i = 0\n",
    "\n",
    "for t2_vol, adc_vol, bval_vol, name, label in zip(list_t2_Vols, list_adc_Vols, list_bval_Vols, names, labels):\n",
    "    \n",
    "    acts_t2 = get_acts(model, t2_vol)\n",
    "    acts_adc = get_acts(model, adc_vol)\n",
    "    acts_bval = get_acts(model, bval_vol)\n",
    "\n",
    "    cov = get_spd_acts(acts_t2,acts_adc,acts_bval)   \n",
    "\n",
    "    np.save(f\"/Datasets/PICAI_covs_VGG19/covs/{name}.npy\", cov)\n",
    "    i = i+1\n",
    "    #Print loading bar \n",
    "    print(f\"Process {i}/{long}  - ({round((i/long)*100,3)}% done)\", end=\"\\r\")\n",
    "    sleep(0.15)\n"
   ]
  }
 ],
 "metadata": {
  "kernelspec": {
   "display_name": "base",
   "language": "python",
   "name": "python3"
  },
  "language_info": {
   "codemirror_mode": {
    "name": "ipython",
    "version": 3
   },
   "file_extension": ".py",
   "mimetype": "text/x-python",
   "name": "python",
   "nbconvert_exporter": "python",
   "pygments_lexer": "ipython3",
   "version": "3.11.0rc1"
  }
 },
 "nbformat": 4,
 "nbformat_minor": 2
}
