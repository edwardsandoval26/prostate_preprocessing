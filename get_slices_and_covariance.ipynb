{
 "cells": [
  {
   "cell_type": "code",
   "execution_count": 9,
   "metadata": {},
   "outputs": [],
   "source": [
    "import json\n",
    "import numpy as np\n",
    "from skimage.transform import resize\n",
    "from time import sleep\n",
    "import matplotlib.pyplot as plt"
   ]
  },
  {
   "cell_type": "code",
   "execution_count": 2,
   "metadata": {},
   "outputs": [],
   "source": [
    "#Read information json:\n",
    "PATH_JSON_INFO = '/Datasets/PICAI_olmos/info-12x32x32.json'\n",
    "PATH_VOLS = '/Datasets/PICAI_32x32x12/volumes/'\n",
    "#read json\n",
    "\n",
    "with open(PATH_JSON_INFO, 'r') as f:\n",
    "    info = json.load(f)"
   ]
  },
  {
   "cell_type": "code",
   "execution_count": 5,
   "metadata": {},
   "outputs": [],
   "source": [
    "#make a function that given a volume returns the center slice in x,y and z\n",
    "def get_center_slices(vol):\n",
    "    x,y,z = vol.shape\n",
    "    return vol[(x-1)//2,:,:], vol[:,(y-1)//2,:], vol[:,:,(z-1)//2]\n",
    "\n",
    "def resize2_32(slice):\n",
    "    return resize(slice, (32,32), anti_aliasing=True)\n",
    "\n",
    "def resize2_224(slice):\n",
    "    return resize(slice, (224,224), anti_aliasing=True)\n",
    "\n",
    "def get_spd(acts,type=\"gramm\"):\n",
    "    h,w,d = acts.shape\n",
    "    vect_acts = acts.reshape(h*w,d)\n",
    "    if type == \"gramm\":\n",
    "        spd = vect_acts.T@vect_acts\n",
    "    elif type == \"corr\":\n",
    "        spd = np.corrcoef(vect_acts.T)\n",
    "    elif type == \"cov\":\n",
    "        spd = np.cov(vect_acts.T)\n",
    "    return spd"
   ]
  },
  {
   "cell_type": "code",
   "execution_count": 4,
   "metadata": {},
   "outputs": [
    {
     "name": "stderr",
     "output_type": "stream",
     "text": [
      "2024-03-18 20:41:38.589081: I tensorflow/core/platform/cpu_feature_guard.cc:210] This TensorFlow binary is optimized to use available CPU instructions in performance-critical operations.\n",
      "To enable the following instructions: AVX2 FMA, in other operations, rebuild TensorFlow with the appropriate compiler flags.\n",
      "2024-03-18 20:41:56.717903: E external/local_xla/xla/stream_executor/cuda/cuda_driver.cc:282] failed call to cuInit: CUDA_ERROR_COMPAT_NOT_SUPPORTED_ON_DEVICE: forward compatibility was attempted on non supported HW\n",
      "2024-03-18 20:41:56.717967: I external/local_xla/xla/stream_executor/cuda/cuda_diagnostics.cc:134] retrieving CUDA diagnostic information for host: 99f8986afac3\n",
      "2024-03-18 20:41:56.717975: I external/local_xla/xla/stream_executor/cuda/cuda_diagnostics.cc:141] hostname: 99f8986afac3\n",
      "2024-03-18 20:41:56.718074: I external/local_xla/xla/stream_executor/cuda/cuda_diagnostics.cc:165] libcuda reported version is: 545.23.6\n",
      "2024-03-18 20:41:56.718095: I external/local_xla/xla/stream_executor/cuda/cuda_diagnostics.cc:169] kernel reported version is: 535.154.5\n",
      "2024-03-18 20:41:56.718101: E external/local_xla/xla/stream_executor/cuda/cuda_diagnostics.cc:251] kernel version 535.154.5 does not match DSO version 545.23.6 -- cannot find working devices in this configuration\n"
     ]
    },
    {
     "name": "stdout",
     "output_type": "stream",
     "text": [
      "Downloading data from https://storage.googleapis.com/tensorflow/keras-applications/vgg19/vgg19_weights_tf_dim_ordering_tf_kernels_notop.h5\n",
      "\u001b[1m80134624/80134624\u001b[0m \u001b[32m━━━━━━━━━━━━━━━━━━━━\u001b[0m\u001b[37m\u001b[0m \u001b[1m9s\u001b[0m 0us/step\n"
     ]
    },
    {
     "data": {
      "text/html": [
       "<pre style=\"white-space:pre;overflow-x:auto;line-height:normal;font-family:Menlo,'DejaVu Sans Mono',consolas,'Courier New',monospace\"><span style=\"font-weight: bold\">Model: \"functional_1\"</span>\n",
       "</pre>\n"
      ],
      "text/plain": [
       "\u001b[1mModel: \"functional_1\"\u001b[0m\n"
      ]
     },
     "metadata": {},
     "output_type": "display_data"
    },
    {
     "data": {
      "text/html": [
       "<pre style=\"white-space:pre;overflow-x:auto;line-height:normal;font-family:Menlo,'DejaVu Sans Mono',consolas,'Courier New',monospace\">┏━━━━━━━━━━━━━━━━━━━━━━━━━━━━━━━━━┳━━━━━━━━━━━━━━━━━━━━━━━━┳━━━━━━━━━━━━━━━┓\n",
       "┃<span style=\"font-weight: bold\"> Layer (type)                    </span>┃<span style=\"font-weight: bold\"> Output Shape           </span>┃<span style=\"font-weight: bold\">       Param # </span>┃\n",
       "┡━━━━━━━━━━━━━━━━━━━━━━━━━━━━━━━━━╇━━━━━━━━━━━━━━━━━━━━━━━━╇━━━━━━━━━━━━━━━┩\n",
       "│ input_layer (<span style=\"color: #0087ff; text-decoration-color: #0087ff\">InputLayer</span>)        │ (<span style=\"color: #00d7ff; text-decoration-color: #00d7ff\">None</span>, <span style=\"color: #00af00; text-decoration-color: #00af00\">32</span>, <span style=\"color: #00af00; text-decoration-color: #00af00\">32</span>, <span style=\"color: #00af00; text-decoration-color: #00af00\">3</span>)      │             <span style=\"color: #00af00; text-decoration-color: #00af00\">0</span> │\n",
       "├─────────────────────────────────┼────────────────────────┼───────────────┤\n",
       "│ block1_conv1 (<span style=\"color: #0087ff; text-decoration-color: #0087ff\">Conv2D</span>)           │ (<span style=\"color: #00d7ff; text-decoration-color: #00d7ff\">None</span>, <span style=\"color: #00af00; text-decoration-color: #00af00\">32</span>, <span style=\"color: #00af00; text-decoration-color: #00af00\">32</span>, <span style=\"color: #00af00; text-decoration-color: #00af00\">64</span>)     │         <span style=\"color: #00af00; text-decoration-color: #00af00\">1,792</span> │\n",
       "├─────────────────────────────────┼────────────────────────┼───────────────┤\n",
       "│ block1_conv2 (<span style=\"color: #0087ff; text-decoration-color: #0087ff\">Conv2D</span>)           │ (<span style=\"color: #00d7ff; text-decoration-color: #00d7ff\">None</span>, <span style=\"color: #00af00; text-decoration-color: #00af00\">32</span>, <span style=\"color: #00af00; text-decoration-color: #00af00\">32</span>, <span style=\"color: #00af00; text-decoration-color: #00af00\">64</span>)     │        <span style=\"color: #00af00; text-decoration-color: #00af00\">36,928</span> │\n",
       "└─────────────────────────────────┴────────────────────────┴───────────────┘\n",
       "</pre>\n"
      ],
      "text/plain": [
       "┏━━━━━━━━━━━━━━━━━━━━━━━━━━━━━━━━━┳━━━━━━━━━━━━━━━━━━━━━━━━┳━━━━━━━━━━━━━━━┓\n",
       "┃\u001b[1m \u001b[0m\u001b[1mLayer (type)                   \u001b[0m\u001b[1m \u001b[0m┃\u001b[1m \u001b[0m\u001b[1mOutput Shape          \u001b[0m\u001b[1m \u001b[0m┃\u001b[1m \u001b[0m\u001b[1m      Param #\u001b[0m\u001b[1m \u001b[0m┃\n",
       "┡━━━━━━━━━━━━━━━━━━━━━━━━━━━━━━━━━╇━━━━━━━━━━━━━━━━━━━━━━━━╇━━━━━━━━━━━━━━━┩\n",
       "│ input_layer (\u001b[38;5;33mInputLayer\u001b[0m)        │ (\u001b[38;5;45mNone\u001b[0m, \u001b[38;5;34m32\u001b[0m, \u001b[38;5;34m32\u001b[0m, \u001b[38;5;34m3\u001b[0m)      │             \u001b[38;5;34m0\u001b[0m │\n",
       "├─────────────────────────────────┼────────────────────────┼───────────────┤\n",
       "│ block1_conv1 (\u001b[38;5;33mConv2D\u001b[0m)           │ (\u001b[38;5;45mNone\u001b[0m, \u001b[38;5;34m32\u001b[0m, \u001b[38;5;34m32\u001b[0m, \u001b[38;5;34m64\u001b[0m)     │         \u001b[38;5;34m1,792\u001b[0m │\n",
       "├─────────────────────────────────┼────────────────────────┼───────────────┤\n",
       "│ block1_conv2 (\u001b[38;5;33mConv2D\u001b[0m)           │ (\u001b[38;5;45mNone\u001b[0m, \u001b[38;5;34m32\u001b[0m, \u001b[38;5;34m32\u001b[0m, \u001b[38;5;34m64\u001b[0m)     │        \u001b[38;5;34m36,928\u001b[0m │\n",
       "└─────────────────────────────────┴────────────────────────┴───────────────┘\n"
      ]
     },
     "metadata": {},
     "output_type": "display_data"
    },
    {
     "data": {
      "text/html": [
       "<pre style=\"white-space:pre;overflow-x:auto;line-height:normal;font-family:Menlo,'DejaVu Sans Mono',consolas,'Courier New',monospace\"><span style=\"font-weight: bold\"> Total params: </span><span style=\"color: #00af00; text-decoration-color: #00af00\">38,720</span> (151.25 KB)\n",
       "</pre>\n"
      ],
      "text/plain": [
       "\u001b[1m Total params: \u001b[0m\u001b[38;5;34m38,720\u001b[0m (151.25 KB)\n"
      ]
     },
     "metadata": {},
     "output_type": "display_data"
    },
    {
     "data": {
      "text/html": [
       "<pre style=\"white-space:pre;overflow-x:auto;line-height:normal;font-family:Menlo,'DejaVu Sans Mono',consolas,'Courier New',monospace\"><span style=\"font-weight: bold\"> Trainable params: </span><span style=\"color: #00af00; text-decoration-color: #00af00\">38,720</span> (151.25 KB)\n",
       "</pre>\n"
      ],
      "text/plain": [
       "\u001b[1m Trainable params: \u001b[0m\u001b[38;5;34m38,720\u001b[0m (151.25 KB)\n"
      ]
     },
     "metadata": {},
     "output_type": "display_data"
    },
    {
     "data": {
      "text/html": [
       "<pre style=\"white-space:pre;overflow-x:auto;line-height:normal;font-family:Menlo,'DejaVu Sans Mono',consolas,'Courier New',monospace\"><span style=\"font-weight: bold\"> Non-trainable params: </span><span style=\"color: #00af00; text-decoration-color: #00af00\">0</span> (0.00 B)\n",
       "</pre>\n"
      ],
      "text/plain": [
       "\u001b[1m Non-trainable params: \u001b[0m\u001b[38;5;34m0\u001b[0m (0.00 B)\n"
      ]
     },
     "metadata": {},
     "output_type": "display_data"
    }
   ],
   "source": [
    "#Using tensorflow and VGG9 describe the slices\n",
    "import tensorflow as tf\n",
    "from tensorflow.keras.applications import VGG19\n",
    "from tensorflow.keras.applications.vgg19 import preprocess_input\n",
    "from tensorflow.keras.models import Model\n",
    "from tensorflow.keras.layers import Input\n",
    "\n",
    "#Load the model\n",
    "vgg19 = VGG19(weights='imagenet', include_top=False, input_shape=(32,32,3))\n",
    "\n",
    "#Get the first pooling layer\n",
    "model = Model(inputs=vgg19.input, outputs=vgg19.get_layer('block1_conv2').output)\n",
    "model.summary()\n"
   ]
  },
  {
   "cell_type": "code",
   "execution_count": 22,
   "metadata": {},
   "outputs": [
    {
     "name": "stdout",
     "output_type": "stream",
     "text": [
      "Process 14/1295  - (1.081% done)\r"
     ]
    }
   ],
   "source": [
    "PATH_SAVE = '/Datasets/PICAI_32x32x12/covs_vgg19/'\n",
    "i = 0\n",
    "long = len(info)\n",
    "for key in info:\n",
    "    vol1 = np.load(PATH_VOLS + key+ \"_0000\" + '.npy')\n",
    "    vol2 = np.load(PATH_VOLS + key+ \"_0001\" + '.npy')\n",
    "    vol3 = np.load(PATH_VOLS + key+ \"_0002\" + '.npy')\n",
    "\n",
    "    #Standarize the volumes\n",
    "    vol1 = (vol1 - vol1.mean()) / vol1.std()\n",
    "    vol2 = (vol2 - vol2.mean()) / vol2.std()\n",
    "    vol3 = (vol3 - vol3.mean()) / vol3.std()\n",
    "\n",
    "    vol_list = [vol1, vol2, vol3]\n",
    "    s1_list = []\n",
    "    s2_list = []\n",
    "    s3_list = []\n",
    "    for vol in vol_list:\n",
    "        s1,s2,s3 = get_center_slices(vol)\n",
    "        s1 = resize2_32(s1)\n",
    "        s2 = resize2_32(s2)\n",
    "\n",
    "        #Repeat slices 3 times along 2 axis\n",
    "        s1 = np.repeat(s1[:,:,np.newaxis], 3, axis=2)\n",
    "        s2 = np.repeat(s2[:,:,np.newaxis], 3, axis=2)\n",
    "        s3 = np.repeat(s3[:,:,np.newaxis], 3, axis=2)\n",
    "        s1_list.append(s1)\n",
    "        s2_list.append(s2)\n",
    "        s3_list.append(s3)\n",
    "\n",
    "    #Stack slices list over first axis\n",
    "    s1_l = np.stack(s1_list, axis=0)\n",
    "    s2_l = np.stack(s2_list, axis=0)\n",
    "    s3_l = np.stack(s3_list, axis=0)\n",
    "\n",
    "    s1_acts = model.predict(s1_l,verbose=0)\n",
    "    s2_acts = model.predict(s2_l,verbose=0)\n",
    "    s3_acts = model.predict(s3_l,verbose=0)\n",
    "\n",
    "    s1_reordered = s1_acts.transpose(1,2,3,0).reshape(32,32,-1)\n",
    "    s2_reordered = s2_acts.transpose(1,2,3,0).reshape(32,32,-1)\n",
    "    s3_reordered = s3_acts.transpose(1,2,3,0).reshape(32,32,-1)\n",
    "\n",
    "    mat = \"cov\"\n",
    "    s1_spd = get_spd(s1_reordered,mat)\n",
    "    s2_spd = get_spd(s2_reordered,mat)\n",
    "    s3_spd = get_spd(s3_reordered,mat)\n",
    "\n",
    "    #Save spds as .npy\n",
    "    np.save(PATH_SAVE + key + \"_s1\" + \".npy\", s1_spd)\n",
    "    np.save(PATH_SAVE + key + \"_s2\" + \".npy\", s2_spd)\n",
    "    np.save(PATH_SAVE + key + \"_s3\" + \".npy\", s3_spd)\n",
    "    \n",
    "    i = i+1\n",
    "    #Print loading bar\n",
    "    print(f\"Process {i}/{long}  - ({round((i/long)*100,3)}% done)\", end=\"\\r\")\n",
    "    sleep(0.05)"
   ]
  }
 ],
 "metadata": {
  "kernelspec": {
   "display_name": "Python 3",
   "language": "python",
   "name": "python3"
  },
  "language_info": {
   "codemirror_mode": {
    "name": "ipython",
    "version": 3
   },
   "file_extension": ".py",
   "mimetype": "text/x-python",
   "name": "python",
   "nbconvert_exporter": "python",
   "pygments_lexer": "ipython3",
   "version": "3.11.0rc1"
  }
 },
 "nbformat": 4,
 "nbformat_minor": 2
}
