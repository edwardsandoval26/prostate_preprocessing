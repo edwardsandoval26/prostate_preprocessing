{
 "cells": [
  {
   "cell_type": "code",
   "execution_count": null,
   "metadata": {},
   "outputs": [],
   "source": [
    "import json"
   ]
  },
  {
   "cell_type": "code",
   "execution_count": null,
   "metadata": {},
   "outputs": [],
   "source": [
    "#Read information json:\n",
    "PATH_JSON_INFO = '/Datasets/PICAI_olmos/info-12x32x32.json'\n",
    "#read json\n",
    "\n",
    "with open(PATH_JSON_INFO, 'r') as f:\n",
    "    info = json.load(f)"
   ]
  }
 ],
 "metadata": {
  "language_info": {
   "name": "python"
  }
 },
 "nbformat": 4,
 "nbformat_minor": 2
}
